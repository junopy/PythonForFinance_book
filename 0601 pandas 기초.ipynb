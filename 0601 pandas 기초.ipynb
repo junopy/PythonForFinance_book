{
 "cells": [
  {
   "cell_type": "code",
   "execution_count": 1,
   "metadata": {},
   "outputs": [],
   "source": [
    "import numpy as np\n",
    "import pandas as pd"
   ]
  },
  {
   "cell_type": "markdown",
   "metadata": {},
   "source": [
    "시계열 자료를 만들기 위해 datetime을 index로 부여해보기로 한다."
   ]
  },
  {
   "cell_type": "code",
   "execution_count": 3,
   "metadata": {},
   "outputs": [
    {
     "data": {
      "text/plain": [
       "array([[-1.029632, -1.000963,  1.155334,  1.071482],\n",
       "       [ 1.363607, -0.966201, -2.224   ,  0.831018],\n",
       "       [ 0.683705, -0.369918,  1.255855, -1.423843],\n",
       "       [-0.944215,  0.434201, -0.989912, -0.231443],\n",
       "       [ 0.773366,  0.097161, -0.507643, -2.135536],\n",
       "       [ 0.072908, -1.033672,  0.893565, -0.141619],\n",
       "       [ 0.594891, -1.452977,  2.222578,  1.694734],\n",
       "       [-0.906191,  0.988045,  0.92762 , -0.200139],\n",
       "       [-0.351068, -1.843398,  0.826164, -0.365017]])"
      ]
     },
     "execution_count": 3,
     "metadata": {},
     "output_type": "execute_result"
    }
   ],
   "source": [
    "a = np.random.standard_normal((9,4))\n",
    "a.round(6)"
   ]
  },
  {
   "cell_type": "code",
   "execution_count": 36,
   "metadata": {},
   "outputs": [
    {
     "data": {
      "text/html": [
       "<div>\n",
       "<style scoped>\n",
       "    .dataframe tbody tr th:only-of-type {\n",
       "        vertical-align: middle;\n",
       "    }\n",
       "\n",
       "    .dataframe tbody tr th {\n",
       "        vertical-align: top;\n",
       "    }\n",
       "\n",
       "    .dataframe thead th {\n",
       "        text-align: right;\n",
       "    }\n",
       "</style>\n",
       "<table border=\"1\" class=\"dataframe\">\n",
       "  <thead>\n",
       "    <tr style=\"text-align: right;\">\n",
       "      <th></th>\n",
       "      <th>0</th>\n",
       "      <th>1</th>\n",
       "      <th>2</th>\n",
       "      <th>3</th>\n",
       "    </tr>\n",
       "  </thead>\n",
       "  <tbody>\n",
       "    <tr>\n",
       "      <th>0</th>\n",
       "      <td>-1.029632</td>\n",
       "      <td>-1.000963</td>\n",
       "      <td>1.155334</td>\n",
       "      <td>1.071482</td>\n",
       "    </tr>\n",
       "    <tr>\n",
       "      <th>1</th>\n",
       "      <td>1.363607</td>\n",
       "      <td>-0.966201</td>\n",
       "      <td>-2.224000</td>\n",
       "      <td>0.831018</td>\n",
       "    </tr>\n",
       "    <tr>\n",
       "      <th>2</th>\n",
       "      <td>0.683705</td>\n",
       "      <td>-0.369918</td>\n",
       "      <td>1.255855</td>\n",
       "      <td>-1.423843</td>\n",
       "    </tr>\n",
       "    <tr>\n",
       "      <th>3</th>\n",
       "      <td>-0.944215</td>\n",
       "      <td>0.434201</td>\n",
       "      <td>-0.989912</td>\n",
       "      <td>-0.231443</td>\n",
       "    </tr>\n",
       "    <tr>\n",
       "      <th>4</th>\n",
       "      <td>0.773366</td>\n",
       "      <td>0.097161</td>\n",
       "      <td>-0.507643</td>\n",
       "      <td>-2.135536</td>\n",
       "    </tr>\n",
       "    <tr>\n",
       "      <th>5</th>\n",
       "      <td>0.072908</td>\n",
       "      <td>-1.033672</td>\n",
       "      <td>0.893565</td>\n",
       "      <td>-0.141619</td>\n",
       "    </tr>\n",
       "    <tr>\n",
       "      <th>6</th>\n",
       "      <td>0.594891</td>\n",
       "      <td>-1.452977</td>\n",
       "      <td>2.222578</td>\n",
       "      <td>1.694734</td>\n",
       "    </tr>\n",
       "    <tr>\n",
       "      <th>7</th>\n",
       "      <td>-0.906191</td>\n",
       "      <td>0.988045</td>\n",
       "      <td>0.927620</td>\n",
       "      <td>-0.200139</td>\n",
       "    </tr>\n",
       "    <tr>\n",
       "      <th>8</th>\n",
       "      <td>-0.351068</td>\n",
       "      <td>-1.843398</td>\n",
       "      <td>0.826164</td>\n",
       "      <td>-0.365017</td>\n",
       "    </tr>\n",
       "  </tbody>\n",
       "</table>\n",
       "</div>"
      ],
      "text/plain": [
       "          0         1         2         3\n",
       "0 -1.029632 -1.000963  1.155334  1.071482\n",
       "1  1.363607 -0.966201 -2.224000  0.831018\n",
       "2  0.683705 -0.369918  1.255855 -1.423843\n",
       "3 -0.944215  0.434201 -0.989912 -0.231443\n",
       "4  0.773366  0.097161 -0.507643 -2.135536\n",
       "5  0.072908 -1.033672  0.893565 -0.141619\n",
       "6  0.594891 -1.452977  2.222578  1.694734\n",
       "7 -0.906191  0.988045  0.927620 -0.200139\n",
       "8 -0.351068 -1.843398  0.826164 -0.365017"
      ]
     },
     "execution_count": 36,
     "metadata": {},
     "output_type": "execute_result"
    }
   ],
   "source": [
    "df = pd.DataFrame(a)\n",
    "df"
   ]
  },
  {
   "cell_type": "code",
   "execution_count": 37,
   "metadata": {},
   "outputs": [
    {
     "data": {
      "text/html": [
       "<div>\n",
       "<style scoped>\n",
       "    .dataframe tbody tr th:only-of-type {\n",
       "        vertical-align: middle;\n",
       "    }\n",
       "\n",
       "    .dataframe tbody tr th {\n",
       "        vertical-align: top;\n",
       "    }\n",
       "\n",
       "    .dataframe thead tr th {\n",
       "        text-align: left;\n",
       "    }\n",
       "</style>\n",
       "<table border=\"1\" class=\"dataframe\">\n",
       "  <thead>\n",
       "    <tr>\n",
       "      <th></th>\n",
       "      <th>No1</th>\n",
       "      <th>No2</th>\n",
       "      <th>No3</th>\n",
       "      <th>No4</th>\n",
       "    </tr>\n",
       "  </thead>\n",
       "  <tbody>\n",
       "    <tr>\n",
       "      <th>0</th>\n",
       "      <td>-1.029632</td>\n",
       "      <td>-1.000963</td>\n",
       "      <td>1.155334</td>\n",
       "      <td>1.071482</td>\n",
       "    </tr>\n",
       "    <tr>\n",
       "      <th>1</th>\n",
       "      <td>1.363607</td>\n",
       "      <td>-0.966201</td>\n",
       "      <td>-2.224000</td>\n",
       "      <td>0.831018</td>\n",
       "    </tr>\n",
       "    <tr>\n",
       "      <th>2</th>\n",
       "      <td>0.683705</td>\n",
       "      <td>-0.369918</td>\n",
       "      <td>1.255855</td>\n",
       "      <td>-1.423843</td>\n",
       "    </tr>\n",
       "    <tr>\n",
       "      <th>3</th>\n",
       "      <td>-0.944215</td>\n",
       "      <td>0.434201</td>\n",
       "      <td>-0.989912</td>\n",
       "      <td>-0.231443</td>\n",
       "    </tr>\n",
       "    <tr>\n",
       "      <th>4</th>\n",
       "      <td>0.773366</td>\n",
       "      <td>0.097161</td>\n",
       "      <td>-0.507643</td>\n",
       "      <td>-2.135536</td>\n",
       "    </tr>\n",
       "    <tr>\n",
       "      <th>5</th>\n",
       "      <td>0.072908</td>\n",
       "      <td>-1.033672</td>\n",
       "      <td>0.893565</td>\n",
       "      <td>-0.141619</td>\n",
       "    </tr>\n",
       "    <tr>\n",
       "      <th>6</th>\n",
       "      <td>0.594891</td>\n",
       "      <td>-1.452977</td>\n",
       "      <td>2.222578</td>\n",
       "      <td>1.694734</td>\n",
       "    </tr>\n",
       "    <tr>\n",
       "      <th>7</th>\n",
       "      <td>-0.906191</td>\n",
       "      <td>0.988045</td>\n",
       "      <td>0.927620</td>\n",
       "      <td>-0.200139</td>\n",
       "    </tr>\n",
       "    <tr>\n",
       "      <th>8</th>\n",
       "      <td>-0.351068</td>\n",
       "      <td>-1.843398</td>\n",
       "      <td>0.826164</td>\n",
       "      <td>-0.365017</td>\n",
       "    </tr>\n",
       "  </tbody>\n",
       "</table>\n",
       "</div>"
      ],
      "text/plain": [
       "        No1       No2       No3       No4\n",
       "0 -1.029632 -1.000963  1.155334  1.071482\n",
       "1  1.363607 -0.966201 -2.224000  0.831018\n",
       "2  0.683705 -0.369918  1.255855 -1.423843\n",
       "3 -0.944215  0.434201 -0.989912 -0.231443\n",
       "4  0.773366  0.097161 -0.507643 -2.135536\n",
       "5  0.072908 -1.033672  0.893565 -0.141619\n",
       "6  0.594891 -1.452977  2.222578  1.694734\n",
       "7 -0.906191  0.988045  0.927620 -0.200139\n",
       "8 -0.351068 -1.843398  0.826164 -0.365017"
      ]
     },
     "execution_count": 37,
     "metadata": {},
     "output_type": "execute_result"
    }
   ],
   "source": [
    "df.columns = [['No1', 'No2', 'No3', 'No4']]\n",
    "df"
   ]
  },
  {
   "cell_type": "code",
   "execution_count": 38,
   "metadata": {},
   "outputs": [
    {
     "data": {
      "text/plain": [
       "DatetimeIndex(['2015-01-31', '2015-02-28', '2015-03-31', '2015-04-30',\n",
       "               '2015-05-31', '2015-06-30', '2015-07-31', '2015-08-31',\n",
       "               '2015-09-30'],\n",
       "              dtype='datetime64[ns]', freq='M')"
      ]
     },
     "execution_count": 38,
     "metadata": {},
     "output_type": "execute_result"
    }
   ],
   "source": [
    "dates = pd.date_range('2015-1-1', periods=9, freq='M')\n",
    "dates"
   ]
  },
  {
   "cell_type": "code",
   "execution_count": 41,
   "metadata": {},
   "outputs": [
    {
     "data": {
      "text/html": [
       "<div>\n",
       "<style scoped>\n",
       "    .dataframe tbody tr th:only-of-type {\n",
       "        vertical-align: middle;\n",
       "    }\n",
       "\n",
       "    .dataframe tbody tr th {\n",
       "        vertical-align: top;\n",
       "    }\n",
       "\n",
       "    .dataframe thead tr th {\n",
       "        text-align: left;\n",
       "    }\n",
       "</style>\n",
       "<table border=\"1\" class=\"dataframe\">\n",
       "  <thead>\n",
       "    <tr>\n",
       "      <th></th>\n",
       "      <th>No1</th>\n",
       "      <th>No2</th>\n",
       "      <th>No3</th>\n",
       "      <th>No4</th>\n",
       "    </tr>\n",
       "  </thead>\n",
       "  <tbody>\n",
       "    <tr>\n",
       "      <th>2015-01-31</th>\n",
       "      <td>-1.029632</td>\n",
       "      <td>-1.000963</td>\n",
       "      <td>1.155334</td>\n",
       "      <td>1.071482</td>\n",
       "    </tr>\n",
       "    <tr>\n",
       "      <th>2015-02-28</th>\n",
       "      <td>1.363607</td>\n",
       "      <td>-0.966201</td>\n",
       "      <td>-2.224000</td>\n",
       "      <td>0.831018</td>\n",
       "    </tr>\n",
       "    <tr>\n",
       "      <th>2015-03-31</th>\n",
       "      <td>0.683705</td>\n",
       "      <td>-0.369918</td>\n",
       "      <td>1.255855</td>\n",
       "      <td>-1.423843</td>\n",
       "    </tr>\n",
       "    <tr>\n",
       "      <th>2015-04-30</th>\n",
       "      <td>-0.944215</td>\n",
       "      <td>0.434201</td>\n",
       "      <td>-0.989912</td>\n",
       "      <td>-0.231443</td>\n",
       "    </tr>\n",
       "    <tr>\n",
       "      <th>2015-05-31</th>\n",
       "      <td>0.773366</td>\n",
       "      <td>0.097161</td>\n",
       "      <td>-0.507643</td>\n",
       "      <td>-2.135536</td>\n",
       "    </tr>\n",
       "    <tr>\n",
       "      <th>2015-06-30</th>\n",
       "      <td>0.072908</td>\n",
       "      <td>-1.033672</td>\n",
       "      <td>0.893565</td>\n",
       "      <td>-0.141619</td>\n",
       "    </tr>\n",
       "    <tr>\n",
       "      <th>2015-07-31</th>\n",
       "      <td>0.594891</td>\n",
       "      <td>-1.452977</td>\n",
       "      <td>2.222578</td>\n",
       "      <td>1.694734</td>\n",
       "    </tr>\n",
       "    <tr>\n",
       "      <th>2015-08-31</th>\n",
       "      <td>-0.906191</td>\n",
       "      <td>0.988045</td>\n",
       "      <td>0.927620</td>\n",
       "      <td>-0.200139</td>\n",
       "    </tr>\n",
       "    <tr>\n",
       "      <th>2015-09-30</th>\n",
       "      <td>-0.351068</td>\n",
       "      <td>-1.843398</td>\n",
       "      <td>0.826164</td>\n",
       "      <td>-0.365017</td>\n",
       "    </tr>\n",
       "  </tbody>\n",
       "</table>\n",
       "</div>"
      ],
      "text/plain": [
       "                 No1       No2       No3       No4\n",
       "2015-01-31 -1.029632 -1.000963  1.155334  1.071482\n",
       "2015-02-28  1.363607 -0.966201 -2.224000  0.831018\n",
       "2015-03-31  0.683705 -0.369918  1.255855 -1.423843\n",
       "2015-04-30 -0.944215  0.434201 -0.989912 -0.231443\n",
       "2015-05-31  0.773366  0.097161 -0.507643 -2.135536\n",
       "2015-06-30  0.072908 -1.033672  0.893565 -0.141619\n",
       "2015-07-31  0.594891 -1.452977  2.222578  1.694734\n",
       "2015-08-31 -0.906191  0.988045  0.927620 -0.200139\n",
       "2015-09-30 -0.351068 -1.843398  0.826164 -0.365017"
      ]
     },
     "execution_count": 41,
     "metadata": {},
     "output_type": "execute_result"
    }
   ],
   "source": [
    "df.index = dates\n",
    "df"
   ]
  },
  {
   "cell_type": "markdown",
   "metadata": {},
   "source": [
    "### 기초적인 분석"
   ]
  },
  {
   "cell_type": "code",
   "execution_count": 16,
   "metadata": {},
   "outputs": [
    {
     "name": "stdout",
     "output_type": "stream",
     "text": [
      "No1    0.257371\n",
      "No2   -5.147723\n",
      "No3    3.559561\n",
      "No4   -0.900363\n",
      "dtype: float64\n",
      "No1    0.028597\n",
      "No2   -0.571969\n",
      "No3    0.395507\n",
      "No4   -0.100040\n",
      "dtype: float64\n",
      "                 No1       No2       No3       No4\n",
      "2015-01-31 -1.029632 -1.000963  1.155334  1.071482\n",
      "2015-02-28  0.333975 -1.967165 -1.068667  1.902500\n",
      "2015-03-31  1.017680 -2.337082  0.187188  0.478657\n",
      "2015-04-30  0.073465 -1.902882 -0.802724  0.247214\n",
      "2015-05-31  0.846831 -1.805721 -1.310367 -1.888322\n",
      "2015-06-30  0.919739 -2.839393 -0.416802 -2.029941\n",
      "2015-07-31  1.514630 -4.292370  1.805776 -0.335207\n",
      "2015-08-31  0.608439 -3.304325  2.733396 -0.535346\n",
      "2015-09-30  0.257371 -5.147723  3.559561 -0.900363\n"
     ]
    }
   ],
   "source": [
    "print(df.sum())\n",
    "print(df.mean())\n",
    "print(df.cumsum())"
   ]
  },
  {
   "cell_type": "code",
   "execution_count": 17,
   "metadata": {},
   "outputs": [
    {
     "data": {
      "text/html": [
       "<div>\n",
       "<style scoped>\n",
       "    .dataframe tbody tr th:only-of-type {\n",
       "        vertical-align: middle;\n",
       "    }\n",
       "\n",
       "    .dataframe tbody tr th {\n",
       "        vertical-align: top;\n",
       "    }\n",
       "\n",
       "    .dataframe thead tr th {\n",
       "        text-align: left;\n",
       "    }\n",
       "</style>\n",
       "<table border=\"1\" class=\"dataframe\">\n",
       "  <thead>\n",
       "    <tr>\n",
       "      <th></th>\n",
       "      <th>No1</th>\n",
       "      <th>No2</th>\n",
       "      <th>No3</th>\n",
       "      <th>No4</th>\n",
       "    </tr>\n",
       "  </thead>\n",
       "  <tbody>\n",
       "    <tr>\n",
       "      <th>count</th>\n",
       "      <td>9.000000</td>\n",
       "      <td>9.000000</td>\n",
       "      <td>9.000000</td>\n",
       "      <td>9.000000</td>\n",
       "    </tr>\n",
       "    <tr>\n",
       "      <th>mean</th>\n",
       "      <td>0.028597</td>\n",
       "      <td>-0.571969</td>\n",
       "      <td>0.395507</td>\n",
       "      <td>-0.100040</td>\n",
       "    </tr>\n",
       "    <tr>\n",
       "      <th>std</th>\n",
       "      <td>0.878417</td>\n",
       "      <td>0.927356</td>\n",
       "      <td>1.367903</td>\n",
       "      <td>1.196635</td>\n",
       "    </tr>\n",
       "    <tr>\n",
       "      <th>min</th>\n",
       "      <td>-1.029632</td>\n",
       "      <td>-1.843398</td>\n",
       "      <td>-2.224000</td>\n",
       "      <td>-2.135536</td>\n",
       "    </tr>\n",
       "    <tr>\n",
       "      <th>25%</th>\n",
       "      <td>-0.906191</td>\n",
       "      <td>-1.033672</td>\n",
       "      <td>-0.507643</td>\n",
       "      <td>-0.365017</td>\n",
       "    </tr>\n",
       "    <tr>\n",
       "      <th>50%</th>\n",
       "      <td>0.072908</td>\n",
       "      <td>-0.966201</td>\n",
       "      <td>0.893565</td>\n",
       "      <td>-0.200139</td>\n",
       "    </tr>\n",
       "    <tr>\n",
       "      <th>75%</th>\n",
       "      <td>0.683705</td>\n",
       "      <td>0.097161</td>\n",
       "      <td>1.155334</td>\n",
       "      <td>0.831018</td>\n",
       "    </tr>\n",
       "    <tr>\n",
       "      <th>max</th>\n",
       "      <td>1.363607</td>\n",
       "      <td>0.988045</td>\n",
       "      <td>2.222578</td>\n",
       "      <td>1.694734</td>\n",
       "    </tr>\n",
       "  </tbody>\n",
       "</table>\n",
       "</div>"
      ],
      "text/plain": [
       "            No1       No2       No3       No4\n",
       "count  9.000000  9.000000  9.000000  9.000000\n",
       "mean   0.028597 -0.571969  0.395507 -0.100040\n",
       "std    0.878417  0.927356  1.367903  1.196635\n",
       "min   -1.029632 -1.843398 -2.224000 -2.135536\n",
       "25%   -0.906191 -1.033672 -0.507643 -0.365017\n",
       "50%    0.072908 -0.966201  0.893565 -0.200139\n",
       "75%    0.683705  0.097161  1.155334  0.831018\n",
       "max    1.363607  0.988045  2.222578  1.694734"
      ]
     },
     "execution_count": 17,
     "metadata": {},
     "output_type": "execute_result"
    }
   ],
   "source": [
    "df.describe()"
   ]
  },
  {
   "cell_type": "code",
   "execution_count": 18,
   "metadata": {},
   "outputs": [
    {
     "name": "stderr",
     "output_type": "stream",
     "text": [
      "C:\\Users\\tohot\\Anaconda3\\envs\\fba_1\\lib\\site-packages\\ipykernel_launcher.py:1: RuntimeWarning: invalid value encountered in sqrt\n",
      "  \"\"\"Entry point for launching an IPython kernel.\n"
     ]
    },
    {
     "data": {
      "text/html": [
       "<div>\n",
       "<style scoped>\n",
       "    .dataframe tbody tr th:only-of-type {\n",
       "        vertical-align: middle;\n",
       "    }\n",
       "\n",
       "    .dataframe tbody tr th {\n",
       "        vertical-align: top;\n",
       "    }\n",
       "\n",
       "    .dataframe thead tr th {\n",
       "        text-align: left;\n",
       "    }\n",
       "</style>\n",
       "<table border=\"1\" class=\"dataframe\">\n",
       "  <thead>\n",
       "    <tr>\n",
       "      <th></th>\n",
       "      <th>No1</th>\n",
       "      <th>No2</th>\n",
       "      <th>No3</th>\n",
       "      <th>No4</th>\n",
       "    </tr>\n",
       "  </thead>\n",
       "  <tbody>\n",
       "    <tr>\n",
       "      <th>2015-01-31</th>\n",
       "      <td>NaN</td>\n",
       "      <td>NaN</td>\n",
       "      <td>1.074864</td>\n",
       "      <td>1.035124</td>\n",
       "    </tr>\n",
       "    <tr>\n",
       "      <th>2015-02-28</th>\n",
       "      <td>1.167736</td>\n",
       "      <td>NaN</td>\n",
       "      <td>NaN</td>\n",
       "      <td>0.911602</td>\n",
       "    </tr>\n",
       "    <tr>\n",
       "      <th>2015-03-31</th>\n",
       "      <td>0.826865</td>\n",
       "      <td>NaN</td>\n",
       "      <td>1.120649</td>\n",
       "      <td>NaN</td>\n",
       "    </tr>\n",
       "    <tr>\n",
       "      <th>2015-04-30</th>\n",
       "      <td>NaN</td>\n",
       "      <td>0.658939</td>\n",
       "      <td>NaN</td>\n",
       "      <td>NaN</td>\n",
       "    </tr>\n",
       "    <tr>\n",
       "      <th>2015-05-31</th>\n",
       "      <td>0.879412</td>\n",
       "      <td>0.311707</td>\n",
       "      <td>NaN</td>\n",
       "      <td>NaN</td>\n",
       "    </tr>\n",
       "    <tr>\n",
       "      <th>2015-06-30</th>\n",
       "      <td>0.270014</td>\n",
       "      <td>NaN</td>\n",
       "      <td>0.945286</td>\n",
       "      <td>NaN</td>\n",
       "    </tr>\n",
       "    <tr>\n",
       "      <th>2015-07-31</th>\n",
       "      <td>0.771292</td>\n",
       "      <td>NaN</td>\n",
       "      <td>1.490831</td>\n",
       "      <td>1.301820</td>\n",
       "    </tr>\n",
       "    <tr>\n",
       "      <th>2015-08-31</th>\n",
       "      <td>NaN</td>\n",
       "      <td>0.994004</td>\n",
       "      <td>0.963130</td>\n",
       "      <td>NaN</td>\n",
       "    </tr>\n",
       "    <tr>\n",
       "      <th>2015-09-30</th>\n",
       "      <td>NaN</td>\n",
       "      <td>NaN</td>\n",
       "      <td>0.908936</td>\n",
       "      <td>NaN</td>\n",
       "    </tr>\n",
       "  </tbody>\n",
       "</table>\n",
       "</div>"
      ],
      "text/plain": [
       "                 No1       No2       No3       No4\n",
       "2015-01-31       NaN       NaN  1.074864  1.035124\n",
       "2015-02-28  1.167736       NaN       NaN  0.911602\n",
       "2015-03-31  0.826865       NaN  1.120649       NaN\n",
       "2015-04-30       NaN  0.658939       NaN       NaN\n",
       "2015-05-31  0.879412  0.311707       NaN       NaN\n",
       "2015-06-30  0.270014       NaN  0.945286       NaN\n",
       "2015-07-31  0.771292       NaN  1.490831  1.301820\n",
       "2015-08-31       NaN  0.994004  0.963130       NaN\n",
       "2015-09-30       NaN       NaN  0.908936       NaN"
      ]
     },
     "execution_count": 18,
     "metadata": {},
     "output_type": "execute_result"
    }
   ],
   "source": [
    "np.sqrt(df)"
   ]
  },
  {
   "cell_type": "code",
   "execution_count": 19,
   "metadata": {},
   "outputs": [
    {
     "name": "stderr",
     "output_type": "stream",
     "text": [
      "C:\\Users\\tohot\\Anaconda3\\envs\\fba_1\\lib\\site-packages\\ipykernel_launcher.py:2: RuntimeWarning: invalid value encountered in sqrt\n",
      "  \n"
     ]
    },
    {
     "data": {
      "text/plain": [
       "No1    3.915319\n",
       "No2    1.964650\n",
       "No3    6.503697\n",
       "No4    3.248546\n",
       "dtype: float64"
      ]
     },
     "execution_count": 19,
     "metadata": {},
     "output_type": "execute_result"
    }
   ],
   "source": [
    "# nan값이 생성되는 경우에도 연산이 되는 것을 볼 수 있음.\n",
    "np.sqrt(df).sum()"
   ]
  },
  {
   "cell_type": "code",
   "execution_count": 20,
   "metadata": {},
   "outputs": [
    {
     "data": {
      "text/plain": [
       "<matplotlib.axes._subplots.AxesSubplot at 0x2485610e4e0>"
      ]
     },
     "execution_count": 20,
     "metadata": {},
     "output_type": "execute_result"
    },
    {
     "data": {
      "image/png": "[encoded data removed]",
      "text/plain": [
       "<Figure size 432x288 with 1 Axes>"
      ]
     },
     "metadata": {
      "needs_background": "light"
     },
     "output_type": "display_data"
    }
   ],
   "source": [
    "%matplotlib inline\n",
    "df.cumsum().plot(lw=2.0)"
   ]
  },
  {
   "cell_type": "markdown",
   "metadata": {},
   "source": [
    "\n",
    "## Series 클래스"
   ]
  },
  {
   "cell_type": "code",
   "execution_count": 42,
   "metadata": {},
   "outputs": [
    {
     "data": {
      "text/plain": [
       "pandas.core.frame.DataFrame"
      ]
     },
     "execution_count": 42,
     "metadata": {},
     "output_type": "execute_result"
    }
   ],
   "source": [
    "type(df)"
   ]
  },
  {
   "cell_type": "code",
   "execution_count": 52,
   "metadata": {},
   "outputs": [
    {
     "data": {
      "text/html": [
       "<div>\n",
       "<style scoped>\n",
       "    .dataframe tbody tr th:only-of-type {\n",
       "        vertical-align: middle;\n",
       "    }\n",
       "\n",
       "    .dataframe tbody tr th {\n",
       "        vertical-align: top;\n",
       "    }\n",
       "\n",
       "    .dataframe thead tr th {\n",
       "        text-align: left;\n",
       "    }\n",
       "</style>\n",
       "<table border=\"1\" class=\"dataframe\">\n",
       "  <thead>\n",
       "    <tr>\n",
       "      <th></th>\n",
       "      <th>No1</th>\n",
       "    </tr>\n",
       "  </thead>\n",
       "  <tbody>\n",
       "    <tr>\n",
       "      <th>2015-01-31</th>\n",
       "      <td>-1.029632</td>\n",
       "    </tr>\n",
       "    <tr>\n",
       "      <th>2015-02-28</th>\n",
       "      <td>1.363607</td>\n",
       "    </tr>\n",
       "    <tr>\n",
       "      <th>2015-03-31</th>\n",
       "      <td>0.683705</td>\n",
       "    </tr>\n",
       "    <tr>\n",
       "      <th>2015-04-30</th>\n",
       "      <td>-0.944215</td>\n",
       "    </tr>\n",
       "    <tr>\n",
       "      <th>2015-05-31</th>\n",
       "      <td>0.773366</td>\n",
       "    </tr>\n",
       "    <tr>\n",
       "      <th>2015-06-30</th>\n",
       "      <td>0.072908</td>\n",
       "    </tr>\n",
       "    <tr>\n",
       "      <th>2015-07-31</th>\n",
       "      <td>0.594891</td>\n",
       "    </tr>\n",
       "    <tr>\n",
       "      <th>2015-08-31</th>\n",
       "      <td>-0.906191</td>\n",
       "    </tr>\n",
       "    <tr>\n",
       "      <th>2015-09-30</th>\n",
       "      <td>-0.351068</td>\n",
       "    </tr>\n",
       "  </tbody>\n",
       "</table>\n",
       "</div>"
      ],
      "text/plain": [
       "                 No1\n",
       "2015-01-31 -1.029632\n",
       "2015-02-28  1.363607\n",
       "2015-03-31  0.683705\n",
       "2015-04-30 -0.944215\n",
       "2015-05-31  0.773366\n",
       "2015-06-30  0.072908\n",
       "2015-07-31  0.594891\n",
       "2015-08-31 -0.906191\n",
       "2015-09-30 -0.351068"
      ]
     },
     "execution_count": 52,
     "metadata": {},
     "output_type": "execute_result"
    }
   ],
   "source": [
    "df.loc[:,['No1']]"
   ]
  },
  {
   "cell_type": "code",
   "execution_count": 61,
   "metadata": {},
   "outputs": [
    {
     "ename": "NameError",
     "evalue": "name 'index' is not defined",
     "output_type": "error",
     "traceback": [
      "\u001b[1;31m---------------------------------------------------------------------------\u001b[0m",
      "\u001b[1;31mNameError\u001b[0m                                 Traceback (most recent call last)",
      "\u001b[1;32m<ipython-input-61-d0831a355d7d>\u001b[0m in \u001b[0;36m<module>\u001b[1;34m\u001b[0m\n\u001b[1;32m----> 1\u001b[1;33m \u001b[0mindex\u001b[0m\u001b[1;33m(\u001b[0m\u001b[0mdf\u001b[0m\u001b[1;33m)\u001b[0m\u001b[1;33m\u001b[0m\u001b[1;33m\u001b[0m\u001b[0m\n\u001b[0m",
      "\u001b[1;31mNameError\u001b[0m: name 'index' is not defined"
     ]
    }
   ],
   "source": []
  },
  {
   "cell_type": "markdown",
   "metadata": {},
   "source": [
    "모르겠다 띵띵,,,,"
   ]
  },
  {
   "cell_type": "markdown",
   "metadata": {},
   "source": [
    "## GroupBy  연산"
   ]
  },
  {
   "cell_type": "code",
   "execution_count": 54,
   "metadata": {},
   "outputs": [
    {
     "data": {
      "text/html": [
       "<div>\n",
       "<style scoped>\n",
       "    .dataframe tbody tr th:only-of-type {\n",
       "        vertical-align: middle;\n",
       "    }\n",
       "\n",
       "    .dataframe tbody tr th {\n",
       "        vertical-align: top;\n",
       "    }\n",
       "\n",
       "    .dataframe thead tr th {\n",
       "        text-align: left;\n",
       "    }\n",
       "</style>\n",
       "<table border=\"1\" class=\"dataframe\">\n",
       "  <thead>\n",
       "    <tr>\n",
       "      <th></th>\n",
       "      <th>No1</th>\n",
       "      <th>No2</th>\n",
       "      <th>No3</th>\n",
       "      <th>No4</th>\n",
       "      <th>Quarter</th>\n",
       "    </tr>\n",
       "  </thead>\n",
       "  <tbody>\n",
       "    <tr>\n",
       "      <th>2015-01-31</th>\n",
       "      <td>-1.029632</td>\n",
       "      <td>-1.000963</td>\n",
       "      <td>1.155334</td>\n",
       "      <td>1.071482</td>\n",
       "      <td>Q1</td>\n",
       "    </tr>\n",
       "    <tr>\n",
       "      <th>2015-02-28</th>\n",
       "      <td>1.363607</td>\n",
       "      <td>-0.966201</td>\n",
       "      <td>-2.224000</td>\n",
       "      <td>0.831018</td>\n",
       "      <td>Q1</td>\n",
       "    </tr>\n",
       "    <tr>\n",
       "      <th>2015-03-31</th>\n",
       "      <td>0.683705</td>\n",
       "      <td>-0.369918</td>\n",
       "      <td>1.255855</td>\n",
       "      <td>-1.423843</td>\n",
       "      <td>Q1</td>\n",
       "    </tr>\n",
       "    <tr>\n",
       "      <th>2015-04-30</th>\n",
       "      <td>-0.944215</td>\n",
       "      <td>0.434201</td>\n",
       "      <td>-0.989912</td>\n",
       "      <td>-0.231443</td>\n",
       "      <td>Q2</td>\n",
       "    </tr>\n",
       "    <tr>\n",
       "      <th>2015-05-31</th>\n",
       "      <td>0.773366</td>\n",
       "      <td>0.097161</td>\n",
       "      <td>-0.507643</td>\n",
       "      <td>-2.135536</td>\n",
       "      <td>Q2</td>\n",
       "    </tr>\n",
       "    <tr>\n",
       "      <th>2015-06-30</th>\n",
       "      <td>0.072908</td>\n",
       "      <td>-1.033672</td>\n",
       "      <td>0.893565</td>\n",
       "      <td>-0.141619</td>\n",
       "      <td>Q2</td>\n",
       "    </tr>\n",
       "    <tr>\n",
       "      <th>2015-07-31</th>\n",
       "      <td>0.594891</td>\n",
       "      <td>-1.452977</td>\n",
       "      <td>2.222578</td>\n",
       "      <td>1.694734</td>\n",
       "      <td>Q3</td>\n",
       "    </tr>\n",
       "    <tr>\n",
       "      <th>2015-08-31</th>\n",
       "      <td>-0.906191</td>\n",
       "      <td>0.988045</td>\n",
       "      <td>0.927620</td>\n",
       "      <td>-0.200139</td>\n",
       "      <td>Q3</td>\n",
       "    </tr>\n",
       "    <tr>\n",
       "      <th>2015-09-30</th>\n",
       "      <td>-0.351068</td>\n",
       "      <td>-1.843398</td>\n",
       "      <td>0.826164</td>\n",
       "      <td>-0.365017</td>\n",
       "      <td>Q3</td>\n",
       "    </tr>\n",
       "  </tbody>\n",
       "</table>\n",
       "</div>"
      ],
      "text/plain": [
       "                 No1       No2       No3       No4 Quarter\n",
       "2015-01-31 -1.029632 -1.000963  1.155334  1.071482      Q1\n",
       "2015-02-28  1.363607 -0.966201 -2.224000  0.831018      Q1\n",
       "2015-03-31  0.683705 -0.369918  1.255855 -1.423843      Q1\n",
       "2015-04-30 -0.944215  0.434201 -0.989912 -0.231443      Q2\n",
       "2015-05-31  0.773366  0.097161 -0.507643 -2.135536      Q2\n",
       "2015-06-30  0.072908 -1.033672  0.893565 -0.141619      Q2\n",
       "2015-07-31  0.594891 -1.452977  2.222578  1.694734      Q3\n",
       "2015-08-31 -0.906191  0.988045  0.927620 -0.200139      Q3\n",
       "2015-09-30 -0.351068 -1.843398  0.826164 -0.365017      Q3"
      ]
     },
     "execution_count": 54,
     "metadata": {},
     "output_type": "execute_result"
    }
   ],
   "source": [
    "df['Quarter']= ['Q1', 'Q1', 'Q1', 'Q2', 'Q2', 'Q2', 'Q3', 'Q3','Q3']\n",
    "df"
   ]
  },
  {
   "cell_type": "markdown",
   "metadata": {},
   "source": [
    "### 인덱스 설정이 되지 않는다,,,, "
   ]
  }
 ],
 "metadata": {
  "kernelspec": {
   "display_name": "Python 3",
   "language": "python",
   "name": "python3"
  },
  "language_info": {
   "codemirror_mode": {
    "name": "ipython",
    "version": 3
   },
   "file_extension": ".py",
   "mimetype": "text/x-python",
   "name": "python",
   "nbconvert_exporter": "python",
   "pygments_lexer": "ipython3",
   "version": "3.6.8"
  }
 },
 "nbformat": 4,
 "nbformat_minor": 4
}
