{
 "cells": [
  {
   "cell_type": "markdown",
   "metadata": {},
   "source": [
    "## BSM관련 함수\n"
   ]
  },
  {
   "cell_type": "markdown",
   "metadata": {},
   "source": [
    "$Call_{price} = S_0N(d1) - Ke^{-rT}N(d2)$ <br><br> $Put_{price} = Ke^{-rT}N(-d2)- S_0N(-d1) $<br><br>$d1 = \\frac{ln(\\frac {S_0} {K}) + (r  + \\frac {1}{2} \\sigma^2)T}{\\sigma \\sqrt{T}}$, $d2 = d1 - \\sigma \\sqrt{T}$\n",
    "\n",
    "$S_0=Stockprice,  K=Strike, r=risk-free rate, T= Maturity, \\sigma= volatility $"
   ]
  },
  {
   "cell_type": "code",
   "execution_count": 2,
   "metadata": {},
   "outputs": [],
   "source": [
    "# BSM 모형을 사용한 유러피언 콜 옵션 가격 결정\n",
    "\n",
    "#bsm_functions.py\n",
    "\n",
    "# BSM 공식\n",
    "\n",
    "def bsm_call_value(S0, K, T, r, sigma):\n",
    "    ''' \n",
    "    인수\n",
    "    ===\n",
    "    S0 : float ; 초기 주가 혹은 지수\n",
    "    K : float ; 행사가\n",
    "    T : float ; 만기까지 남은 시간(연단위)\n",
    "    r : float ; 고정 무위험 단기 이자율\n",
    "    sigma : float ; 변동성 파라미터\n",
    "    \n",
    "    반환값\n",
    "    ====\n",
    "    value : float ; 유러피언 콜 옵션의 현재 가격\n",
    "    '''\n",
    "    from math import log, sqrt, exp\n",
    "    from scipy import stats\n",
    "    \n",
    "    #인수 설정\n",
    "    S0 = float(S0)\n",
    "    d1 = (log(S0 / K) + (r + 0.5 * sigma**2) * T) / (sigma * sqrt(T))\n",
    "    d2 = (log(S0 / K) + (r - 0.5 * sigma**2) * T) / (sigma * sqrt(T))\n",
    "    value = (S0 * stats.norm.cdf(d1,0.0,1.0)\n",
    "            - K * exp(-r * T) * stats.norm.cdf(d2, 0.0, 1.0))\n",
    "        # stats.norm.cdf --> 정규분포의 누적확률 분포 계산\n",
    "    return value"
   ]
  },
  {
   "cell_type": "markdown",
   "metadata": {},
   "source": [
    " "
   ]
  },
  {
   "cell_type": "markdown",
   "metadata": {},
   "source": [
    "## 베가 계산 함수"
   ]
  },
  {
   "cell_type": "code",
   "execution_count": 3,
   "metadata": {},
   "outputs": [],
   "source": [
    "# 베가 계산 함수와 내재 변동성 추정 함수를 포함한다\n",
    "\n",
    "def bsm_vega(S0, K, T, r, sigma):\n",
    "    '''\n",
    "    반환값\n",
    "    ====\n",
    "    vega : float ; BSM 공식을 변동성에 대해 1차 미분한 값\n",
    "    '''\n",
    "    from math import log, sqrt\n",
    "    from scipy import stats\n",
    "    \n",
    "    s0 = float(s0)\n",
    "    d1 = (log(S0 / K) + (r + 0.5 * sigma**2) * T) / (sigma * sqrt(T))\n",
    "    vega = S0 * stats.norm.cdf(d1, 0.0, 1.0)\n",
    "    \n",
    "    return vega"
   ]
  },
  {
   "cell_type": "markdown",
   "metadata": {},
   "source": [
    " "
   ]
  },
  {
   "cell_type": "markdown",
   "metadata": {},
   "source": [
    "## 내재 변동성 계산 함수"
   ]
  },
  {
   "cell_type": "code",
   "execution_count": 4,
   "metadata": {},
   "outputs": [],
   "source": [
    "def bsm_call_imp_vol(S0, K, T, r, C0, sigma_est, it=100):\n",
    "    '''\n",
    "    인수\n",
    "    ===\n",
    "    sigma_est : float ; 변동성 파라미터 초기 추정치\n",
    "    it : integer ; 반복 계산 횟수\n",
    "    C0 : float ; 콜옵션 가격(?)\n",
    "    \n",
    "    반환값\n",
    "    ====\n",
    "    sigma_est : float ; 수치적으로 추정한 내재 변동성\n",
    "    '''\n",
    "    for i in range(it):\n",
    "        sigma_est -= ((bsm_call_value(S0, K, T, r, sigma_est) - C0)\n",
    "                       / bsm_vega(S0, K, T, r, sigma_est))\n",
    "        \n",
    "        return sigma_est"
   ]
  }
 ],
 "metadata": {
  "kernelspec": {
   "display_name": "Python 3",
   "language": "python",
   "name": "python3"
  },
  "language_info": {
   "codemirror_mode": {
    "name": "ipython",
    "version": 3
   },
   "file_extension": ".py",
   "mimetype": "text/x-python",
   "name": "python",
   "nbconvert_exporter": "python",
   "pygments_lexer": "ipython3",
   "version": "3.6.8"
  }
 },
 "nbformat": 4,
 "nbformat_minor": 4
}
