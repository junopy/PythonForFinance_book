{
 "cells": [
  {
   "cell_type": "markdown",
   "metadata": {},
   "source": [
    "## 정적분 나타내기"
   ]
  },
  {
   "cell_type": "code",
   "execution_count": 1,
   "metadata": {},
   "outputs": [],
   "source": [
    "import numpy as np\n",
    "import matplotlib.pyplot as plt\n",
    "%matplotlib inline"
   ]
  },
  {
   "cell_type": "code",
   "execution_count": 3,
   "metadata": {},
   "outputs": [],
   "source": [
    "import scipy.integrate as sci"
   ]
  },
  {
   "cell_type": "code",
   "execution_count": 4,
   "metadata": {},
   "outputs": [],
   "source": [
    "def f(x):\n",
    "    return np.sin(x) + 0.5*x"
   ]
  },
  {
   "cell_type": "code",
   "execution_count": 5,
   "metadata": {},
   "outputs": [],
   "source": [
    "a = 0.5\n",
    "b = 9.5\n",
    "x = np.linspace(0,10)\n",
    "y = f(x)"
   ]
  },
  {
   "cell_type": "code",
   "execution_count": 6,
   "metadata": {},
   "outputs": [],
   "source": [
    "from matplotlib.patches import Polygon"
   ]
  },
  {
   "cell_type": "code",
   "execution_count": 8,
   "metadata": {},
   "outputs": [
    {
     "name": "stderr",
     "output_type": "stream",
     "text": [
      "C:\\Users\\tohot\\Anaconda3\\envs\\fba_1\\lib\\site-packages\\matplotlib\\axes\\_base.py:3604: MatplotlibDeprecationWarning: \n",
      "The `ymin` argument was deprecated in Matplotlib 3.0 and will be removed in 3.2. Use `bottom` instead.\n",
      "  alternative='`bottom`', obj_type='argument')\n"
     ]
    },
    {
     "data": {
      "text/plain": [
       "[<matplotlib.axis.YTick at 0x24efbd2eda0>,\n",
       " <matplotlib.axis.YTick at 0x24efbd2e6d8>]"
      ]
     },
     "execution_count": 8,
     "metadata": {},
     "output_type": "execute_result"
    },
    {
     "data": {
      "image/png": "[encoded data removed]",
      "text/plain": [
       "<Figure size 504x360 with 1 Axes>"
      ]
     },
     "metadata": {
      "needs_background": "light"
     },
     "output_type": "display_data"
    }
   ],
   "source": [
    "fig, ax = plt.subplots(figsize=(7,5))\n",
    "plt.plot(x, y, 'b', linewidth=2)\n",
    "plt.ylim(ymin=0)\n",
    "\n",
    "#함수 아래의 정적분 구간\n",
    "Ix = np.linspace(a, b)\n",
    "Iy = f(Ix)\n",
    "verts = [(a,0)] + list(zip(Ix, Iy)) + [(b,0)]\n",
    "poly = Polygon(verts, facecolor='0.7', edgecolor='0.5')\n",
    "ax.add_patch(poly)\n",
    "\n",
    "#라벨링\n",
    "plt.text(0.75*(a+b), 1.5, r\"$\\int_a^b f(x)dx$\", horizontalalignment='center', fontsize=20)\n",
    "plt.figtext(0.9, 0.075, '$x$')\n",
    "plt.figtext(0.075, 0.9, '$f(x)$')\n",
    "\n",
    "ax.set_xticks((a,b))\n",
    "ax.set_xticklabels(('$a$', '$b$'))\n",
    "ax.set_yticks([f(a), f(b)])"
   ]
  },
  {
   "cell_type": "markdown",
   "metadata": {},
   "source": [
    "## 수치 적분\n",
    "fixed_quad 함수는 가우스 구적법을, quad 함수는 적을 구적법을, romberg 함수는 롬베르크 적분법을 사용하여 계산"
   ]
  },
  {
   "cell_type": "code",
   "execution_count": 9,
   "metadata": {},
   "outputs": [
    {
     "data": {
      "text/plain": [
       "24.366995967084602"
      ]
     },
     "execution_count": 9,
     "metadata": {},
     "output_type": "execute_result"
    }
   ],
   "source": [
    "sci.fixed_quad(f, a, b)[0]"
   ]
  },
  {
   "cell_type": "code",
   "execution_count": 10,
   "metadata": {},
   "outputs": [
    {
     "data": {
      "text/plain": [
       "24.374754718086752"
      ]
     },
     "execution_count": 10,
     "metadata": {},
     "output_type": "execute_result"
    }
   ],
   "source": [
    "sci.quad(f, a, b)[0]"
   ]
  },
  {
   "cell_type": "code",
   "execution_count": 11,
   "metadata": {},
   "outputs": [
    {
     "data": {
      "text/plain": [
       "24.374754718086713"
      ]
     },
     "execution_count": 11,
     "metadata": {},
     "output_type": "execute_result"
    }
   ],
   "source": [
    "sci.romberg(f, a, b)"
   ]
  },
  {
   "cell_type": "markdown",
   "metadata": {},
   "source": [
    "list나 ndarray 객체를 통해 함수 값을 입력으로 받는 정적분 함수도 있다."
   ]
  },
  {
   "cell_type": "code",
   "execution_count": 12,
   "metadata": {},
   "outputs": [],
   "source": [
    "xi = np.linspace(0.5, 9.5, 25)"
   ]
  },
  {
   "cell_type": "code",
   "execution_count": 13,
   "metadata": {},
   "outputs": [
    {
     "data": {
      "text/plain": [
       "24.352733271544516"
      ]
     },
     "execution_count": 13,
     "metadata": {},
     "output_type": "execute_result"
    }
   ],
   "source": [
    "sci.trapz(f(xi),xi)"
   ]
  },
  {
   "cell_type": "code",
   "execution_count": 14,
   "metadata": {},
   "outputs": [
    {
     "data": {
      "text/plain": [
       "24.37496418455075"
      ]
     },
     "execution_count": 14,
     "metadata": {},
     "output_type": "execute_result"
    }
   ],
   "source": [
    "sci.simps(f(xi), xi)"
   ]
  },
  {
   "cell_type": "markdown",
   "metadata": {},
   "source": [
    "### 시뮬레이션을 사용한 적분 계산\n",
    "몬테카를로 시뮬레이션으로 옵션과 파생상품의 가치평가하는 것은 시뮬레이션으로 정적분을 계산할 수 있기 때문이다.  \n",
    "난수의 개수가 그리 크지 않아도 추정치는 충분히 정답에 가까워진다."
   ]
  },
  {
   "cell_type": "code",
   "execution_count": 15,
   "metadata": {},
   "outputs": [
    {
     "name": "stdout",
     "output_type": "stream",
     "text": [
      "24.804762279331463\n",
      "26.522918898332378\n",
      "26.265547519223976\n",
      "26.02770339943824\n",
      "24.99954181440844\n",
      "23.881810141621663\n",
      "23.527912274843253\n",
      "23.507857658961207\n",
      "23.67236746066989\n",
      "23.679410416062886\n",
      "24.424401707879305\n",
      "24.239005346819056\n",
      "24.115396924962802\n",
      "24.424191987566726\n",
      "23.924933080533783\n",
      "24.19484212027875\n",
      "24.117348378249833\n",
      "24.100690929662274\n",
      "23.76905109847816\n"
     ]
    }
   ],
   "source": [
    "for i in range(1, 20) :\n",
    "    np.random.seed(1000)\n",
    "    x = np.random.random(i*10) * (b-a) + a\n",
    "    print (np.sum(f(x)) / len(x)*(b-a))"
   ]
  }
 ],
 "metadata": {
  "kernelspec": {
   "display_name": "Python 3",
   "language": "python",
   "name": "python3"
  },
  "language_info": {
   "codemirror_mode": {
    "name": "ipython",
    "version": 3
   },
   "file_extension": ".py",
   "mimetype": "text/x-python",
   "name": "python",
   "nbconvert_exporter": "python",
   "pygments_lexer": "ipython3",
   "version": "3.6.8"
  }
 },
 "nbformat": 4,
 "nbformat_minor": 4
}
