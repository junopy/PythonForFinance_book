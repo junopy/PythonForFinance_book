{
 "cells": [
  {
   "cell_type": "markdown",
   "metadata": {},
   "source": [
    "# 위험 측도\n",
    "가치 평가 이외에 확률 과정 시뮬레이션의 중요한 응용 분야의 하나는 위험 관리 이다. 이 절에서는 오늘날 그뮹산업에서 가장 널리 쓰이는 두 가지 위험 측도를 계산/추정하는 법을 설명한다."
   ]
  },
  {
   "cell_type": "markdown",
   "metadata": {},
   "source": [
    "## VaR\n",
    "Value at Risk는 가장 널리 사용되며 또한 가장 논란이 많은 위험 측도이다. 직관적이기 때문에 실무에서는 사랑받지만, 이론적 기반을 제대로 파악하지 못한다는 점에서 많은 비판을 받는다. VaR를 한마디로 설명하면 어떤 확률적인 신뢰도 하에서 특정 시간 내에 발생할 수 있는 화폐로 환산한 손실 가능 금액을 말한다."
   ]
  },
  {
   "cell_type": "code",
   "execution_count": 1,
   "metadata": {},
   "outputs": [],
   "source": [
    "import numpy as np\n",
    "import numpy.random as npr\n",
    "import matplotlib.pyplot as plt\n",
    "%matplotlib inline"
   ]
  },
  {
   "cell_type": "code",
   "execution_count": 2,
   "metadata": {},
   "outputs": [],
   "source": [
    "s0 = 100\n",
    "r = 0.05\n",
    "sigma = 0.25\n",
    "T = 30/365\n",
    "I = 10000\n",
    "sT = s0 *np.exp((r-0.5*sigma**2) *T\n",
    "                   + sigma*np.sqrt(T)*npr.standard_normal(I))"
   ]
  },
  {
   "cell_type": "code",
   "execution_count": 3,
   "metadata": {},
   "outputs": [],
   "source": [
    "R_gbm = np.sort(sT - s0)"
   ]
  },
  {
   "cell_type": "code",
   "execution_count": 5,
   "metadata": {},
   "outputs": [
    {
     "data": {
      "image/png": "[encoded data removed]",
      "text/plain": [
       "<Figure size 432x288 with 1 Axes>"
      ]
     },
     "metadata": {
      "needs_background": "light"
     },
     "output_type": "display_data"
    }
   ],
   "source": [
    "plt.hist(R_gbm, bins=50)\n",
    "plt.xlabel('absolute return')\n",
    "plt.ylabel('frequency')\n",
    "plt.grid(True)"
   ]
  },
  {
   "cell_type": "markdown",
   "metadata": {},
   "source": [
    "정렬된 결과를 담은 ndarray 객체만 있으면 나머지 작업은 scoreatpercentile 함수에 맡길 수 있다."
   ]
  },
  {
   "cell_type": "code",
   "execution_count": 6,
   "metadata": {},
   "outputs": [],
   "source": [
    "from scipy import stats\n",
    "import scipy.stats as scs"
   ]
  },
  {
   "cell_type": "code",
   "execution_count": 8,
   "metadata": {},
   "outputs": [
    {
     "name": "stdout",
     "output_type": "stream",
     "text": [
      "Confidence Level    Value-at-Risk\n",
      "---------------------------------\n",
      "           99.99           23.500\n",
      "           99.90           20.785\n",
      "           99.00           14.966\n",
      "           97.50           12.930\n",
      "           95.00           10.861\n",
      "           90.00            8.632\n"
     ]
    }
   ],
   "source": [
    "percs = [0.01, 0.1, 1., 2.5, 5.0, 10.0]\n",
    "var = scs.scoreatpercentile(R_gbm, percs)\n",
    "print (\"%16s %16s\" % ('Confidence Level', 'Value-at-Risk'))\n",
    "print (33*\"-\")\n",
    "for pair in zip(percs, var):\n",
    "    print (\"%16.2f %16.3f\" % (100 - pair[0], -pair[1]))"
   ]
  },
  {
   "cell_type": "markdown",
   "metadata": {},
   "source": [
    "머튼의 점프 확산 모형을 동적으로 시뮬레이션 해본다"
   ]
  },
  {
   "cell_type": "code",
   "execution_count": 12,
   "metadata": {},
   "outputs": [],
   "source": [
    "M = 50\n",
    "lamb = 0.75\n",
    "mu = -0.6\n",
    "delta = 0.25\n",
    "dt = 30./365 / M\n",
    "rj = lamb*(np.exp(mu + 0.5*delta**2)-1)\n",
    "S= np.zeros((M+1, I))\n",
    "S[0] = s0\n",
    "sn1 = npr.standard_normal((M+1, I))\n",
    "sn2 = npr.standard_normal((M+1, I))\n",
    "poi = npr.poisson(lamb *dt, (M+1, I))\n",
    "for t in range(1, M+1, 1):\n",
    "    S[t] = S[t-1]*(np.exp((r-rj-0.5*sigma**2) *dt\n",
    "                   + sigma * np.sqrt(dt)*sn1[t])\n",
    "                   + (np.exp(mu + delta *sn2[t])-1)\n",
    "                   * poi[t])\n",
    "    S[t] = np.maximum(S[t],0)"
   ]
  },
  {
   "cell_type": "code",
   "execution_count": 13,
   "metadata": {},
   "outputs": [],
   "source": [
    "R_jd = np.sort(S[-1] -s0)"
   ]
  },
  {
   "cell_type": "code",
   "execution_count": 14,
   "metadata": {},
   "outputs": [
    {
     "data": {
      "image/png": "[encoded data removed]",
      "text/plain": [
       "<Figure size 432x288 with 1 Axes>"
      ]
     },
     "metadata": {
      "needs_background": "light"
     },
     "output_type": "display_data"
    }
   ],
   "source": [
    "plt.hist(R_jd, bins=50)\n",
    "plt.xlabel('absolute return')\n",
    "plt.ylabel('frequency')\n",
    "plt.grid(True)"
   ]
  },
  {
   "cell_type": "markdown",
   "metadata": {},
   "source": [
    "이 경우에는 점프 요인이 음수이므로 정규분포 관점에서 보면 상당한 좌측 팻 테일을 가진다"
   ]
  },
  {
   "cell_type": "code",
   "execution_count": 15,
   "metadata": {},
   "outputs": [
    {
     "name": "stdout",
     "output_type": "stream",
     "text": [
      "Confidence Level    Value-at-Risk\n",
      "---------------------------------\n",
      "           99.99           73.121\n",
      "           99.90           69.565\n",
      "           99.00           56.027\n",
      "           97.50           46.880\n",
      "           95.00           25.199\n",
      "           90.00            8.717\n"
     ]
    }
   ],
   "source": [
    "percs = [0.01, 0.1, 1., 2.5, 5.0, 10.0]\n",
    "var = scs.scoreatpercentile(R_jd, percs)\n",
    "print (\"%16s %16s\" % ('Confidence Level', 'Value-at-Risk'))\n",
    "print (33*\"-\")\n",
    "for pair in zip(percs, var):\n",
    "    print (\"%16.2f %16.3f\" % (100 - pair[0], -pair[1]))"
   ]
  },
  {
   "cell_type": "markdown",
   "metadata": {},
   "source": [
    "90% 신뢰도를 가진 30일 VaR 값은 이전의 결과와 거의 동일 하지만, 99%의 신뢰도 값은 기하 브라운 운동 모형의 세배 이상이다.  \n",
    "이 결과는 표준적인 VaR 측도로 금융 시장에서 종종 발생하는 테일 리스크를 포착하지 못하는 문제를 보여준다."
   ]
  },
  {
   "cell_type": "code",
   "execution_count": 16,
   "metadata": {},
   "outputs": [],
   "source": [
    "percs = list(np.arange(0.0, 10.1, 0.1))\n",
    "gbm_var = scs.scoreatpercentile(R_gbm, percs)\n",
    "jd_var = scs.scoreatpercentile(R_jd, percs)\n"
   ]
  },
  {
   "cell_type": "code",
   "execution_count": 18,
   "metadata": {},
   "outputs": [
    {
     "name": "stderr",
     "output_type": "stream",
     "text": [
      "C:\\Users\\tohot\\Anaconda3\\envs\\fba_1\\lib\\site-packages\\matplotlib\\axes\\_base.py:3610: MatplotlibDeprecationWarning: \n",
      "The `ymax` argument was deprecated in Matplotlib 3.0 and will be removed in 3.2. Use `top` instead.\n",
      "  alternative='`top`', obj_type='argument')\n"
     ]
    },
    {
     "data": {
      "text/plain": [
       "(-78.13554970409616, 0.0)"
      ]
     },
     "execution_count": 18,
     "metadata": {},
     "output_type": "execute_result"
    },
    {
     "data": {
      "image/png": "[encoded data removed]",
      "text/plain": [
       "<Figure size 432x288 with 1 Axes>"
      ]
     },
     "metadata": {
      "needs_background": "light"
     },
     "output_type": "display_data"
    }
   ],
   "source": [
    "plt.plot(percs, gbm_var, 'b', lw=1.5, label='GBM')\n",
    "plt.plot(percs, jd_var, 'r', lw=1.5, label='JD')\n",
    "plt.legend(loc=4)\n",
    "plt.xlabel('100 - confidence level [%]')\n",
    "plt.ylabel('value-at-risk')\n",
    "plt.grid(True)\n",
    "plt.ylim(ymax=0.0)"
   ]
  },
  {
   "cell_type": "markdown",
   "metadata": {},
   "source": [
    "## CVA\n",
    "또 다른 위험 측도는 신용 VaR에서 파생된 Credit Value Adjustment이다. 신용 VaR는 거래 상대방이 이행의무를 다하지 않을 수 있는 가능성을 고려한 위험 측도이다. 파산의 경우 부도확률과 손실 수준의 두가지 가정이 필요하다. 좀 더 구체적으로 다음과 같은 인수를 가지는 BSM 모형을 다시 생각해보자\n"
   ]
  },
  {
   "cell_type": "code",
   "execution_count": 19,
   "metadata": {},
   "outputs": [],
   "source": [
    "s0 = 100.\n",
    "r = 0.05\n",
    "sigma = 0.2\n",
    "T = 1.\n",
    "I = 100000\n",
    "sT = s0 *np.exp((r-0.5*sigma**2) *T\n",
    "                   + sigma*np.sqrt(T)*npr.standard_normal(I))"
   ]
  },
  {
   "cell_type": "code",
   "execution_count": 20,
   "metadata": {},
   "outputs": [],
   "source": [
    "# 가장 단순한 경우로 손실 수준 L과 1년 부도 확률 p가 고정되어 있다고 한다.\n",
    "L= 0.5\n",
    "p = 0.01"
   ]
  },
  {
   "cell_type": "code",
   "execution_count": 22,
   "metadata": {},
   "outputs": [],
   "source": [
    "# 포아송 분포를 이요하여 부도 시나리오 생성하기\n",
    "D = npr.poisson(p*T, I)\n",
    "D = np.where(D>1, 1, D)"
   ]
  },
  {
   "cell_type": "code",
   "execution_count": 23,
   "metadata": {},
   "outputs": [
    {
     "data": {
      "text/plain": [
       "99.97601980859137"
      ]
     },
     "execution_count": 23,
     "metadata": {},
     "output_type": "execute_result"
    }
   ],
   "source": [
    "# 부도가 발생하지 않은 경우에는 위험 중립 측도 하에 미래의 주가지수는 해당 자산의 현재 가치와 같아야한다.\n",
    "np.exp(-r*T)* 1/I * np.sum(sT)"
   ]
  },
  {
   "cell_type": "markdown",
   "metadata": {},
   "source": [
    "이 가정 하에서 신용 VaR은 다음과 같이 계산한다."
   ]
  },
  {
   "cell_type": "code",
   "execution_count": 24,
   "metadata": {},
   "outputs": [
    {
     "data": {
      "text/plain": [
       "0.49431356692043205"
      ]
     },
     "execution_count": 24,
     "metadata": {},
     "output_type": "execute_result"
    }
   ],
   "source": [
    "CVaR = np.exp(-r*T) *1/I *np.sum(L*D*sT)\n",
    "CVaR"
   ]
  },
  {
   "cell_type": "markdown",
   "metadata": {},
   "source": [
    "같은 방법으로 신용 위험을 조정한 자산의 현재 가치는 다음과 같이 주어진다."
   ]
  },
  {
   "cell_type": "code",
   "execution_count": 25,
   "metadata": {},
   "outputs": [
    {
     "data": {
      "text/plain": [
       "99.4817062416709"
      ]
     },
     "execution_count": 25,
     "metadata": {},
     "output_type": "execute_result"
    }
   ],
   "source": [
    "s0_CVA = np.exp(-r*T) *1/I * np.sum((1-L*D)*sT)\n",
    "s0_CVA"
   ]
  },
  {
   "cell_type": "markdown",
   "metadata": {},
   "source": [
    "이 값은 현재 자산 가치에서 신용 VaR값을 뺀 것과 거의 같아야 한다."
   ]
  },
  {
   "cell_type": "code",
   "execution_count": 26,
   "metadata": {},
   "outputs": [
    {
     "data": {
      "text/plain": [
       "99.50568643307957"
      ]
     },
     "execution_count": 26,
     "metadata": {},
     "output_type": "execute_result"
    }
   ],
   "source": [
    "s0_adj = s0 - CVaR\n",
    "s0_adj"
   ]
  },
  {
   "cell_type": "code",
   "execution_count": 27,
   "metadata": {},
   "outputs": [
    {
     "data": {
      "text/plain": [
       "996"
      ]
     },
     "execution_count": 27,
     "metadata": {},
     "output_type": "execute_result"
    }
   ],
   "source": [
    "# 시뮬레이션 하에서 신용 위험에 의한 손실 발생 횟수?\n",
    "np.count_nonzero(L*D*sT)"
   ]
  },
  {
   "cell_type": "code",
   "execution_count": 28,
   "metadata": {},
   "outputs": [
    {
     "data": {
      "text/plain": [
       "(0.0, 175)"
      ]
     },
     "execution_count": 28,
     "metadata": {},
     "output_type": "execute_result"
    },
    {
     "data": {
      "image/png": "[encoded data removed]",
      "text/plain": [
       "<Figure size 432x288 with 1 Axes>"
      ]
     },
     "metadata": {
      "needs_background": "light"
     },
     "output_type": "display_data"
    }
   ],
   "source": [
    "# 위험 중립 하에서 부도로 인한 손실 분포\n",
    "plt.hist(L*D*sT, bins=50)\n",
    "plt.xlabel('loss')\n",
    "plt.ylabel('frequency')\n",
    "plt.grid(True)\n",
    "plt.ylim(ymax = 175)"
   ]
  },
  {
   "cell_type": "code",
   "execution_count": 29,
   "metadata": {},
   "outputs": [
    {
     "data": {
      "text/plain": [
       "10.437598479279476"
      ]
     },
     "execution_count": 29,
     "metadata": {},
     "output_type": "execute_result"
    }
   ],
   "source": [
    "# 이 경우의 유러피안 콜 옵션의 가치\n",
    "K = 100.\n",
    "hT = np.maximum(sT - K, 0)\n",
    "C0 = np.exp(-r*T) * 1/I * np.sum(hT)\n",
    "C0"
   ]
  },
  {
   "cell_type": "code",
   "execution_count": 30,
   "metadata": {},
   "outputs": [
    {
     "data": {
      "text/plain": [
       "0.05082792001933739"
      ]
     },
     "execution_count": 30,
     "metadata": {},
     "output_type": "execute_result"
    }
   ],
   "source": [
    "# 콜 옵션의 VaR\n",
    "CVaR = np.exp(-r*T)* 1/I * np.sum(L*D*hT)\n",
    "CVaR"
   ]
  },
  {
   "cell_type": "code",
   "execution_count": 32,
   "metadata": {},
   "outputs": [
    {
     "data": {
      "text/plain": [
       "10.386770559260139"
      ]
     },
     "execution_count": 32,
     "metadata": {},
     "output_type": "execute_result"
    }
   ],
   "source": [
    "# 조정된 옵션 가치\n",
    "C0_CVA = np.exp(-r*T) *1/I * np.sum((1-L*D)*hT)\n",
    "C0_CVA"
   ]
  },
  {
   "cell_type": "code",
   "execution_count": 33,
   "metadata": {},
   "outputs": [
    {
     "data": {
      "text/plain": [
       "525"
      ]
     },
     "execution_count": 33,
     "metadata": {},
     "output_type": "execute_result"
    }
   ],
   "source": [
    "# 손실횟수\n",
    "np.count_nonzero(L*D*hT)"
   ]
  },
  {
   "cell_type": "code",
   "execution_count": 34,
   "metadata": {},
   "outputs": [
    {
     "data": {
      "text/plain": [
       "996"
      ]
     },
     "execution_count": 34,
     "metadata": {},
     "output_type": "execute_result"
    }
   ],
   "source": [
    "# 부도횟수\n",
    "np.count_nonzero(D)"
   ]
  },
  {
   "cell_type": "markdown",
   "metadata": {},
   "source": [
    "자산 자체의 경우와 비교하면 옵션 가치 평가는 약간 다른 특성을 보인다. 자산의 경우에는 부도로 인한 손실이 1000회 이상이었는데 옵션의 경우에는 500회 약간 넘을 뿐이다. 이는 옵션의 만기 페이오프가 그 자체로 0이 될 확률이 높기 때문이다."
   ]
  },
  {
   "cell_type": "code",
   "execution_count": 35,
   "metadata": {},
   "outputs": [
    {
     "data": {
      "text/plain": [
       "44025"
      ]
     },
     "execution_count": 35,
     "metadata": {},
     "output_type": "execute_result"
    }
   ],
   "source": [
    "# 페이오프가 없는 경우\n",
    "I - np.count_nonzero(hT)"
   ]
  },
  {
   "cell_type": "code",
   "execution_count": 36,
   "metadata": {},
   "outputs": [
    {
     "data": {
      "text/plain": [
       "(0.0, 350)"
      ]
     },
     "execution_count": 36,
     "metadata": {},
     "output_type": "execute_result"
    },
    {
     "data": {
      "image/png": "[encoded data removed]",
      "text/plain": [
       "<Figure size 432x288 with 1 Axes>"
      ]
     },
     "metadata": {
      "needs_background": "light"
     },
     "output_type": "display_data"
    }
   ],
   "source": [
    "# 콜옵션에서 위험 중립 가정하 부도로 인한 손실\n",
    "plt.hist(L*D*hT, bins=50)\n",
    "plt.xlabel('loss')\n",
    "plt.ylabel('frequency')\n",
    "plt.grid(True)\n",
    "plt.ylim(ymax = 350)"
   ]
  }
 ],
 "metadata": {
  "kernelspec": {
   "display_name": "Python 3",
   "language": "python",
   "name": "python3"
  },
  "language_info": {
   "codemirror_mode": {
    "name": "ipython",
    "version": 3
   },
   "file_extension": ".py",
   "mimetype": "text/x-python",
   "name": "python",
   "nbconvert_exporter": "python",
   "pygments_lexer": "ipython3",
   "version": "3.6.8"
  }
 },
 "nbformat": 4,
 "nbformat_minor": 4
}
