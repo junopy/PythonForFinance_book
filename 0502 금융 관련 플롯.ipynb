{
 "cells": [
  {
   "cell_type": "code",
   "execution_count": 44,
   "metadata": {},
   "outputs": [],
   "source": [
    "import mpl_finance as mpf\n",
    "from pandas_datareader import data as web\n",
    "import matplotlib.pyplot as plt\n",
    "import datetime\n",
    "import matplotlib.ticker as ticker"
   ]
  },
  {
   "cell_type": "code",
   "execution_count": 21,
   "metadata": {},
   "outputs": [],
   "source": [
    "# 독일 DAX 값 가져오기\n",
    "start = '2014-05-01'\n",
    "end = '2014-06-30'"
   ]
  },
  {
   "cell_type": "code",
   "execution_count": 23,
   "metadata": {},
   "outputs": [],
   "source": [
    "quotes = web.DataReader('^GDAXI', data_source='yahoo', start=start, end=end)"
   ]
  },
  {
   "cell_type": "code",
   "execution_count": 24,
   "metadata": {},
   "outputs": [
    {
     "data": {
      "text/html": [
       "<div>\n",
       "<style scoped>\n",
       "    .dataframe tbody tr th:only-of-type {\n",
       "        vertical-align: middle;\n",
       "    }\n",
       "\n",
       "    .dataframe tbody tr th {\n",
       "        vertical-align: top;\n",
       "    }\n",
       "\n",
       "    .dataframe thead th {\n",
       "        text-align: right;\n",
       "    }\n",
       "</style>\n",
       "<table border=\"1\" class=\"dataframe\">\n",
       "  <thead>\n",
       "    <tr style=\"text-align: right;\">\n",
       "      <th></th>\n",
       "      <th>High</th>\n",
       "      <th>Low</th>\n",
       "      <th>Open</th>\n",
       "      <th>Close</th>\n",
       "      <th>Volume</th>\n",
       "      <th>Adj Close</th>\n",
       "    </tr>\n",
       "    <tr>\n",
       "      <th>Date</th>\n",
       "      <th></th>\n",
       "      <th></th>\n",
       "      <th></th>\n",
       "      <th></th>\n",
       "      <th></th>\n",
       "      <th></th>\n",
       "    </tr>\n",
       "  </thead>\n",
       "  <tbody>\n",
       "    <tr>\n",
       "      <th>2014-04-30</th>\n",
       "      <td>9618.980469</td>\n",
       "      <td>9561.059570</td>\n",
       "      <td>9576.929688</td>\n",
       "      <td>9603.230469</td>\n",
       "      <td>90290900</td>\n",
       "      <td>9603.230469</td>\n",
       "    </tr>\n",
       "    <tr>\n",
       "      <th>2014-05-02</th>\n",
       "      <td>9627.379883</td>\n",
       "      <td>9533.299805</td>\n",
       "      <td>9611.790039</td>\n",
       "      <td>9556.019531</td>\n",
       "      <td>88062300</td>\n",
       "      <td>9556.019531</td>\n",
       "    </tr>\n",
       "  </tbody>\n",
       "</table>\n",
       "</div>"
      ],
      "text/plain": [
       "                   High          Low         Open        Close    Volume  \\\n",
       "Date                                                                       \n",
       "2014-04-30  9618.980469  9561.059570  9576.929688  9603.230469  90290900   \n",
       "2014-05-02  9627.379883  9533.299805  9611.790039  9556.019531  88062300   \n",
       "\n",
       "              Adj Close  \n",
       "Date                     \n",
       "2014-04-30  9603.230469  \n",
       "2014-05-02  9556.019531  "
      ]
     },
     "execution_count": 24,
     "metadata": {},
     "output_type": "execute_result"
    }
   ],
   "source": [
    "quotes[:2]"
   ]
  },
  {
   "cell_type": "code",
   "execution_count": 47,
   "metadata": {},
   "outputs": [
    {
     "data": {
      "image/png": "[encoded data removed]",
      "text/plain": [
       "<Figure size 864x576 with 1 Axes>"
      ]
     },
     "metadata": {
      "needs_background": "light"
     },
     "output_type": "display_data"
    }
   ],
   "source": [
    "fig, ax = plt.subplots(figsize=(12,8))\n",
    "fig.subplots_adjust(bottom=0.2)\n",
    "\n",
    "# 날짜 추가하기\n",
    "day_list = []\n",
    "name_list = []\n",
    "\n",
    "for i, day in enumerate(quotes.index):\n",
    "    if day.dayofweek ==0:\n",
    "        day_list.append(i)\n",
    "        name_list. append(day.strftime('%Y-%m-%d') + '(mon)')\n",
    "        \n",
    "ax.xaxis.set_major_locator(ticker.FixedLocator(day_list))\n",
    "ax.xaxis.set_major_formatter(ticker.FixedFormatter(name_list))\n",
    "\n",
    "mpf.candlestick2_ohlc(ax, quotes['Open'], quotes['High'], quotes['Low'], quotes['Close'],\n",
    "                      width=0.6, colorup='b', colordown='r')\n",
    "\n",
    "plt.setp(plt.gca().get_xticklabels(), rotation=30)\n",
    "plt.grid()\n",
    "plt.show()"
   ]
  },
  {
   "cell_type": "code",
   "execution_count": 43,
   "metadata": {},
   "outputs": [
    {
     "data": {
      "text/plain": [
       "'2014-04-30'"
      ]
     },
     "execution_count": 43,
     "metadata": {},
     "output_type": "execute_result"
    }
   ],
   "source": [
    "quotes.index[0].strftime('%Y-%m-%d')"
   ]
  }
 ],
 "metadata": {
  "kernelspec": {
   "display_name": "Python 3",
   "language": "python",
   "name": "python3"
  },
  "language_info": {
   "codemirror_mode": {
    "name": "ipython",
    "version": 3
   },
   "file_extension": ".py",
   "mimetype": "text/x-python",
   "name": "python",
   "nbconvert_exporter": "python",
   "pygments_lexer": "ipython3",
   "version": "3.6.8"
  }
 },
 "nbformat": 4,
 "nbformat_minor": 4
}
