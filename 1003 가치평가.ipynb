{
 "cells": [
  {
   "cell_type": "markdown",
   "metadata": {},
   "source": [
    "# 가치평가\n",
    "몬테카를로 시뮬레이션의 가장 중요한 응용은 옵션, 파생상품, 하이브리드 상품 등의 조건부 청구권의 가치를 펴가하는 것이다. 쉽게 말하자면 조건부 청구권의 가치는 위험 중립 또는 마틴게일 측도 하에서 기대 페이오프를 할인한 것과 같다. 위험 중립 측도는 주식, 지수 등의 모든 위험 요인이 무위험 단기 이자율에 따라 증가하도록 하는 확률 측도이다. 자산 ㅏ격결정 기본 정리에 따르면 무위험 차익 거래의 부존재와 위험 중립 측도의 존재는 서로 동치이다."
   ]
  },
  {
   "cell_type": "markdown",
   "metadata": {},
   "source": [
    "## 유러피안 옵션"
   ]
  },
  {
   "cell_type": "code",
   "execution_count": 1,
   "metadata": {},
   "outputs": [],
   "source": [
    "import numpy as np\n",
    "import numpy.random as npr\n",
    "import matplotlib.pyplot as plt\n",
    "%matplotlib inline"
   ]
  },
  {
   "cell_type": "code",
   "execution_count": 25,
   "metadata": {},
   "outputs": [],
   "source": [
    "def gen_sn(M, I, anti_paths=True, mo_match=True):\n",
    "    if anti_paths is True:\n",
    "        sn = npr.standard_normal((M+1, int(I/2)))\n",
    "        sn = np.concatenate((sn,-sn), axis=1)\n",
    "    else:\n",
    "        sn = npr.standard_normal((M+1, I))\n",
    "    if mo_match is True:\n",
    "        sn = (sn - sn.mean()) / sn.std()\n",
    "    return sn"
   ]
  },
  {
   "cell_type": "code",
   "execution_count": 30,
   "metadata": {},
   "outputs": [],
   "source": [
    "s0 = 100 #초기값\n",
    "r = 0.05 # 고정 단기 이자율\n",
    "sigma = 0.25 # 고정 변동성\n",
    "T = 1.0 #연단위\n",
    "I = 50000 # 난수 개수\n",
    "def gbm_mcs_stat(K):\n",
    "    #유러피안 콜 옵션을 bsm 모형과 만기 주가의 몬테카를로 시뮬레이션을 사용하여 가치평가\n",
    "    sn = gen_sn(1,I) # 만기 시의 주가를 시뮬레이션\n",
    "    sT = s0 *np.exp((r-0.5*sigma**2) *T\n",
    "                   + sigma*np.sqrt(T)*sn[1])\n",
    "    hT = np.maximum(sT-K, 0) # 만기 시 페이오프를 계산\n",
    "    # 몬테카를로 추정치\n",
    "    C0 = np.exp(-r*T) * 1/I*np.sum(hT)\n",
    "    return C0"
   ]
  },
  {
   "cell_type": "code",
   "execution_count": 31,
   "metadata": {},
   "outputs": [
    {
     "data": {
      "text/plain": [
       "10.069706554158023"
      ]
     },
     "execution_count": 31,
     "metadata": {},
     "output_type": "execute_result"
    }
   ],
   "source": [
    "gbm_mcs_stat(K=105)"
   ]
  },
  {
   "cell_type": "code",
   "execution_count": 41,
   "metadata": {},
   "outputs": [],
   "source": [
    "# 동적인 시뮬레이션 방식으로 풋옵션의 가치\n",
    "M = 50\n",
    "def gbm_mcs_dyna(K, option='call'):\n",
    "    dt = T/M\n",
    "    S = np.zeros((M+1, I))\n",
    "    S[0] = s0\n",
    "    sn = gen_sn(M, I)\n",
    "    for t in range(1, M+1):\n",
    "        S[t] = S[t -1]*np.exp((r - 0.5*sigma**2) *dt\n",
    "                             + sigma*np.sqrt(dt)*sn[t])\n",
    "    if option == 'call':\n",
    "        hT = np.maximum(S[-1]-K, 0)\n",
    "    else:\n",
    "        hT = np.maximum(K- S[-1], 0) # 옵션 유형에 따른 페이오프 계산\n",
    "     #몬테카를로 추정\n",
    "    C0 = np.exp(-r*T) *1/I *np.sum(hT)\n",
    "     \n",
    "    return C0"
   ]
  },
  {
   "cell_type": "code",
   "execution_count": 42,
   "metadata": {},
   "outputs": [
    {
     "data": {
      "text/plain": [
       "7.992046973688549"
      ]
     },
     "execution_count": 42,
     "metadata": {},
     "output_type": "execute_result"
    }
   ],
   "source": [
    "gbm_mcs_dyna(K=110, option='call')"
   ]
  },
  {
   "cell_type": "code",
   "execution_count": 43,
   "metadata": {},
   "outputs": [
    {
     "data": {
      "text/plain": [
       "12.655955596807248"
      ]
     },
     "execution_count": 43,
     "metadata": {},
     "output_type": "execute_result"
    }
   ],
   "source": [
    "gbm_mcs_dyna(K=110, option='put')"
   ]
  },
  {
   "cell_type": "markdown",
   "metadata": {},
   "source": [
    "이렇게 시뮬레이션 방식으로 계산한 값이 bsm 공식과 얼마나 일치할까?"
   ]
  },
  {
   "cell_type": "code",
   "execution_count": 46,
   "metadata": {},
   "outputs": [],
   "source": [
    "from bsm_functions import bsm_call_value"
   ]
  },
  {
   "cell_type": "code",
   "execution_count": 49,
   "metadata": {},
   "outputs": [],
   "source": [
    "stat_res=[]\n",
    "dyna_res=[]\n",
    "anal_res=[]\n",
    "k_list = np.arange(80,120.1,5.)\n",
    "np.random.seed(200000)\n",
    "for K in k_list:\n",
    "    stat_res.append(gbm_mcs_stat(K))\n",
    "    dyna_res.append(gbm_mcs_dyna(K))\n",
    "    anal_res.append(bsm_call_value(s0,K,T,r,sigma))\n",
    "stat_res = np.array(stat_res)\n",
    "dyna_res = np.array(dyna_res)\n",
    "anal_res = np.array(anal_res)"
   ]
  },
  {
   "cell_type": "code",
   "execution_count": 54,
   "metadata": {},
   "outputs": [
    {
     "name": "stderr",
     "output_type": "stream",
     "text": [
      "C:\\Users\\tohot\\Anaconda3\\envs\\fba_1\\lib\\site-packages\\matplotlib\\axes\\_base.py:3604: MatplotlibDeprecationWarning: \n",
      "The `ymin` argument was deprecated in Matplotlib 3.0 and will be removed in 3.2. Use `bottom` instead.\n",
      "  alternative='`bottom`', obj_type='argument')\n"
     ]
    },
    {
     "data": {
      "image/png": "[encoded data removed]",
      "text/plain": [
       "<Figure size 576x432 with 2 Axes>"
      ]
     },
     "metadata": {
      "needs_background": "light"
     },
     "output_type": "display_data"
    }
   ],
   "source": [
    "# 정적 시뮬레이션 방식과의 비교\n",
    "fig, (ax1, ax2) = plt.subplots(2, 1, sharex=True, figsize=(8,6))\n",
    "ax1.plot(k_list, anal_res, 'b', label='analytical')\n",
    "ax1.plot(k_list, stat_res, 'ro', label='static')\n",
    "ax1.set_ylabel('European call option value')\n",
    "ax1.grid(True)\n",
    "ax1.legend(loc=0)\n",
    "ax1.set_ylim(ymin=0)\n",
    "wi = 1.0\n",
    "ax2.bar(k_list - wi / 2, (anal_res - stat_res) / anal_res*100, wi)\n",
    "ax2.set_xlabel('strike')\n",
    "ax2.set_ylabel('difference in %')\n",
    "ax2.set_xlim(left=75, right=125)\n",
    "ax2.grid(True)"
   ]
  },
  {
   "cell_type": "code",
   "execution_count": 55,
   "metadata": {},
   "outputs": [
    {
     "data": {
      "image/png": "[encoded data removed]",
      "text/plain": [
       "<Figure size 576x432 with 2 Axes>"
      ]
     },
     "metadata": {
      "needs_background": "light"
     },
     "output_type": "display_data"
    }
   ],
   "source": [
    "# 동적 시뮬레이션 방식과의 비교\n",
    "fig, (ax1, ax2) = plt.subplots(2, 1, sharex=True, figsize=(8,6))\n",
    "ax1.plot(k_list, anal_res, 'b', label='analytical')\n",
    "ax1.plot(k_list, dyna_res, 'ro', label='dynamic')\n",
    "ax1.set_ylabel('European call option value')\n",
    "ax1.grid(True)\n",
    "ax1.legend(loc=0)\n",
    "ax1.set_ylim(ymin=0)\n",
    "wi = 1.0\n",
    "ax2.bar(k_list - wi / 2, (anal_res - dyna_res) / anal_res*100, wi)\n",
    "ax2.set_xlabel('strike')\n",
    "ax2.set_ylabel('difference in %')\n",
    "ax2.set_xlim(left=75, right=125)\n",
    "ax2.grid(True)"
   ]
  },
  {
   "cell_type": "markdown",
   "metadata": {},
   "source": [
    "## 아메리칸 옵션\n",
    "최적 정지 문제를 풀어야 한다. 이 문제는 시뮬레이션 상에서 이산 시간 그리드를 사용하여 풀 수 있다.  \n",
    "이렇게 하면 아메리칸 옵션이 아니라 트정 그리드 점에서 행사가 가능한 버뮤다 옵션 문제를 푸는 셈이지만 시간 그리드의 간격을 좁히면 아메리카 옵션으로 수렵한다.\n"
   ]
  },
  {
   "cell_type": "code",
   "execution_count": 56,
   "metadata": {},
   "outputs": [],
   "source": [
    "def gbm_mcs_amer(K, option='call'):\n",
    "    dt = T/M\n",
    "    df = np.exp(-r*dt)\n",
    "    S = np.zeros((M+1, I))\n",
    "    S[0] = s0\n",
    "    sn = gen_sn(M, I)\n",
    "    for t in range(1, M+1):\n",
    "        S[t] = S[t -1]*np.exp((r - 0.5*sigma**2) *dt\n",
    "                             + sigma*np.sqrt(dt)*sn[t])\n",
    "   \n",
    "    if option == 'call':\n",
    "        h = np.maximum(S-K, 0)\n",
    "    else:\n",
    "        h = np.maximum(K- S, 0) # 옵션 유형에 따른 페이오프 계산\n",
    "    \n",
    "    #LSM 알고리즘\n",
    "    V = np.copy(h)\n",
    "    for t in range(M-1, 0, -1):\n",
    "        reg = np.polyfit(S[t], V[t+1]*df, 7)\n",
    "        C = np.polyval(reg, S[t])\n",
    "        V[t] = np.where(C > h[t], V[t+1]*df, h[t])\n",
    "    #몬테카를로 추정\n",
    "    C0 = df *1/I *np.sum(V[1])\n",
    "    return C0"
   ]
  },
  {
   "cell_type": "code",
   "execution_count": 57,
   "metadata": {},
   "outputs": [
    {
     "data": {
      "text/plain": [
       "7.778933279449315"
      ]
     },
     "execution_count": 57,
     "metadata": {},
     "output_type": "execute_result"
    }
   ],
   "source": [
    "gbm_mcs_amer(110., option='call')"
   ]
  },
  {
   "cell_type": "code",
   "execution_count": 58,
   "metadata": {},
   "outputs": [
    {
     "data": {
      "text/plain": [
       "13.614023206242445"
      ]
     },
     "execution_count": 58,
     "metadata": {},
     "output_type": "execute_result"
    }
   ],
   "source": [
    "gbm_mcs_amer(110., option='put')"
   ]
  },
  {
   "cell_type": "markdown",
   "metadata": {},
   "source": [
    "조기 행사 프리미엄 추정"
   ]
  },
  {
   "cell_type": "code",
   "execution_count": 59,
   "metadata": {},
   "outputs": [],
   "source": [
    "euro_res=[]\n",
    "amer_res=[]\n",
    "k_list = np.arange(80.,120.1, 5.)\n",
    "for K in k_list:\n",
    "    euro_res.append(gbm_mcs_dyna(K, 'put'))\n",
    "    amer_res.append(gbm_mcs_amer(K, 'put'))\n",
    "euro_res = np.array(euro_res)\n",
    "amer_res = np.array(amer_res)"
   ]
  },
  {
   "cell_type": "code",
   "execution_count": 60,
   "metadata": {},
   "outputs": [
    {
     "data": {
      "image/png": "[encoded data removed]",
      "text/plain": [
       "<Figure size 576x432 with 2 Axes>"
      ]
     },
     "metadata": {
      "needs_background": "light"
     },
     "output_type": "display_data"
    }
   ],
   "source": [
    "fig, (ax1, ax2) = plt.subplots(2, 1, sharex=True, figsize=(8,6))\n",
    "ax1.plot(k_list, euro_res, 'b', label='European put')\n",
    "ax1.plot(k_list, amer_res, 'ro', label='American Put')\n",
    "ax1.set_ylabel('call option value')\n",
    "ax1.grid(True)\n",
    "ax1.legend(loc=0)\n",
    "ax1.set_ylim(ymin=0)\n",
    "wi = 1.0\n",
    "ax2.bar(k_list - wi / 2, (amer_res - euro_res) / euro_res*100, wi)\n",
    "ax2.set_xlabel('strike')\n",
    "ax2.set_ylabel('early exercise premium in %')\n",
    "ax2.set_xlim(left=75, right=125)\n",
    "ax2.grid(True)"
   ]
  }
 ],
 "metadata": {
  "kernelspec": {
   "display_name": "Python 3",
   "language": "python",
   "name": "python3"
  },
  "language_info": {
   "codemirror_mode": {
    "name": "ipython",
    "version": 3
   },
   "file_extension": ".py",
   "mimetype": "text/x-python",
   "name": "python",
   "nbconvert_exporter": "python",
   "pygments_lexer": "ipython3",
   "version": "3.6.8"
  }
 },
 "nbformat": 4,
 "nbformat_minor": 4
}
