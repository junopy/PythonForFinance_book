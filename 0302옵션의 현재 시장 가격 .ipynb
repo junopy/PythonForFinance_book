{
 "cells": [
  {
   "cell_type": "code",
   "execution_count": null,
   "metadata": {},
   "outputs": [],
   "source": [
    "import pandas as pd\n",
    "import numpy as np\n",
    "import datetime as dt\n",
    "import calendar\n",
    "from pylab import plt\n",
    "plt.style.use('seaborn')\n",
    "import matplotlib as mpl\n",
    "mpl.rcParams['font.family'] = 'serif'\n",
    "import warnings; warnings.simplefilter('ignore')"
   ]
  },
  {
   "cell_type": "markdown",
   "metadata": {},
   "source": [
    "## 지수 가져오기"
   ]
  },
  {
   "cell_type": "code",
   "execution_count": null,
   "metadata": {},
   "outputs": [],
   "source": [
    "# get index vstoxx\n",
    "url=\"http://www.stoxx.com/download/historical_values/h_vstoxx.txt\"\n",
    "#url= \"https://www.stoxx.com/documents/stoxxnet/Documents/Indices/Current/HistoricalData/h_v2tx.txt\"\n",
    "vstoxx_index=pd.read_csv(url, index_col=0, header=2, parse_dates=True, dayfirst=True)\n",
    "print(vstoxx_index.info())\n",
    "vstoxx_index.tail()"
   ]
  },
  {
   "cell_type": "markdown",
   "metadata": {},
   "source": [
    "## 선물데이터 가져오기 (나중에 파일 만들기)"
   ]
  },
  {
   "cell_type": "code",
   "execution_count": null,
   "metadata": {},
   "outputs": [],
   "source": [
    "# get futures vstoxx\n",
    "url=\"./Python_ex/resources/vstoxx_futures.xlsx\"\n",
    "vstoxx_futures=pd.read_excel(url, \"vstoxx_futures\")\n",
    "print(vstoxx_futures.info())\n",
    "del vstoxx_futures['A_SETTLEMENT_PRICE_SCALED']\n",
    "del vstoxx_futures[\"A_PRODUCT_ID\"]\n",
    "del vstoxx_futures['SETTLE']\n",
    "columns=['date','exp_year','exp_month','call_put_flag','price']\n",
    "vstoxx_futures.columns=columns\n",
    "vstoxx_futures.tail()\n",
    "\n"
   ]
  },
  {
   "cell_type": "code",
   "execution_count": null,
   "metadata": {},
   "outputs": [],
   "source": [
    "V0 = 17.6639"
   ]
  },
  {
   "cell_type": "code",
   "execution_count": null,
   "metadata": {},
   "outputs": [],
   "source": [
    "r = 0.01"
   ]
  },
  {
   "cell_type": "code",
   "execution_count": null,
   "metadata": {},
   "outputs": [],
   "source": [
    "# 자료가 pandas DataFrame 객체로 되어 PyTable 데이터베이스 파일에 저장되어 있는 경우\n",
    "import pandas as pd\n",
    "import h5py\n",
    "h5 = pd.HDFStore('./source/vstoxx_data_31032014.h5','r')\n",
    "# VSTOXX 선물자료\n",
    "futures_data = h5['futures_data']\n",
    "# VSTOXX 콜 옵션 자료\n",
    "options_data = h5['options_data']\n",
    "h5.close()\n"
   ]
  },
  {
   "cell_type": "code",
   "execution_count": null,
   "metadata": {},
   "outputs": [],
   "source": [
    "options_data.info()\n",
    "options_data[['DATE', 'MATURITY','TTM','STRIKE','PRICE']].head()"
   ]
  },
  {
   "cell_type": "markdown",
   "metadata": {},
   "source": [
    "## 콜옵션의 내재 변동성 계산"
   ]
  },
  {
   "cell_type": "code",
   "execution_count": null,
   "metadata": {},
   "outputs": [],
   "source": [
    "# 선물 가격 기준 50% 이내의 행사가를 가진 옵션만을 다루도록 한다.\n",
    "# 내재 변동성 추정 결과를 저장할 열 생성\n",
    "options_data['IMP_VOL'] = 0.0"
   ]
  },
  {
   "cell_type": "code",
   "execution_count": null,
   "metadata": {},
   "outputs": [],
   "source": [
    "# bsm function 불러오기\n",
    "from bsm_functions import *"
   ]
  },
  {
   "cell_type": "code",
   "execution_count": null,
   "metadata": {},
   "outputs": [],
   "source": [
    "# 내재 변동성 계산\n",
    "tol = 0.5 #: 머니니스 범위\n",
    "for option in options_data.index:\n",
    "    # 모든 옵션 시장가에 대해 반복 작업\n",
    "    forward = futures_data[futures_data['MATURITY'] == |\n",
    "                          options_data.loc[option]['MATURITY']]['PRICE'].values[0]\n",
    "       # 옵션과 만기가 일치하는 선물 선택\n",
    "    if (forward * (1 - tol) < options_data.loc[option]['STRIKE']\n",
    "                            < forward * (1 + tol)):\n",
    "           #머니니스 범위 내의 옵션만 선택\n",
    "            imp_vol = bsm_call_imp_col(\n",
    "                    V0, # VSTOXX 지수값\n",
    "                    options_data.loc[option]['STRIKE'],\n",
    "                    options_data.loc[option]['TTM'],\n",
    "                    r,\n",
    "                    options_data.loc[option]['PRICE'],\n",
    "                    sigma_est=2.,\n",
    "                    it=100)\n",
    "            options_data['IMP_VOL'].loc[option] = imp_vol"
   ]
  },
  {
   "cell_type": "markdown",
   "metadata": {},
   "source": [
    "## 변동성 스마일 현상 확인"
   ]
  },
  {
   "cell_type": "code",
   "execution_count": null,
   "metadata": {},
   "outputs": [],
   "source": [
    "''' options_data 중에서 내재 변동성이 계산 된 것만 이용한다'''\n",
    "plot_data = options_data[options_data['IMP_VOL'] > 0]"
   ]
  },
  {
   "cell_type": "code",
   "execution_count": null,
   "metadata": {},
   "outputs": [],
   "source": [
    "''' 같은 만기를 가진 자료를 모으기 위해 중복되지 않고 정렬된 상태의 만기 값리스트로 변환'''\n",
    "maturities = sorted(set(options_data['MATURITY']))\n",
    "# set 연산으로 중복제거, sorted로 정렬"
   ]
  },
  {
   "cell_type": "code",
   "execution_count": null,
   "metadata": {},
   "outputs": [],
   "source": [
    "''' 각 만기별로 Plot 만들기'''\n",
    "import matplotllib.pyplot as plt\n",
    "%matplotlib inline\n",
    "plt.figure(figsize=(8,6))\n",
    "for maturity in maturities:\n",
    "    data = plot_data[options_data.MATURITY == maturity]\n",
    "      # 만기 maturity 값을 가진 자료만 선택\n",
    "    plt.plot(data['STRIKE'], data['IMP_VOL'], 'r.')\n",
    "    plt.grid(True)\n",
    "    plt.xlabel('strike')\n",
    "    plt.ylabel('implied volatility of volatility')\n",
    "    plt.legend()\n",
    "    plt.show()"
   ]
  },
  {
   "cell_type": "markdown",
   "metadata": {},
   "source": [
    "## 계층 인덱스 기능 사용"
   ]
  },
  {
   "cell_type": "code",
   "execution_count": null,
   "metadata": {},
   "outputs": [],
   "source": [
    "'''만기와 행사가를 통해 옵션을 선택할 경우, 만기와 행사가를 인덱스로 설정 가능'''\n",
    "keep = ['PRICE', 'IMP_VOL']\n",
    "group_data = plot_data.groupby(['MATURITY','STRIKE'])[keep]\n",
    "group_data"
   ]
  },
  {
   "cell_type": "code",
   "execution_count": null,
   "metadata": {},
   "outputs": [],
   "source": [
    "'''sum 을 통해 자료 찾기'''\n",
    "group_data = group_data.sum()\n",
    "group_data.head()\n",
    "group_data.index.levels"
   ]
  }
 ],
 "metadata": {
  "kernelspec": {
   "display_name": "Python 3",
   "language": "python",
   "name": "python3"
  },
  "language_info": {
   "codemirror_mode": {
    "name": "ipython",
    "version": 3
   },
   "file_extension": ".py",
   "mimetype": "text/x-python",
   "name": "python",
   "nbconvert_exporter": "python",
   "pygments_lexer": "ipython3",
   "version": "3.6.8"
  }
 },
 "nbformat": 4,
 "nbformat_minor": 4
}
